{
 "cells": [
  {
   "cell_type": "markdown",
   "id": "d47853e9-aa32-4351-94d8-dca4457169e5",
   "metadata": {},
   "source": [
    "# Dataset visualisation and  cleaning"
   ]
  },
  {
   "cell_type": "markdown",
   "id": "97547325-e28b-4285-b289-b10192d20da0",
   "metadata": {},
   "source": [
    "<div class=\"alert alert-block alert-success\">\r",
    "<b> Data cleaning </b> can be a tedious task. \n",
    "According to IBM Data Analytics you can expect to spend up to 80% of your time cleaning data. ok.\r\n",
    "</div>"
   ]
  },
  {
   "cell_type": "markdown",
   "id": "dfc92bc9-beac-40f5-aade-7d637e6bf819",
   "metadata": {},
   "source": [
    "## Dataset description and visualisation"
   ]
  },
  {
   "cell_type": "markdown",
   "id": "75d03d02-31e8-4200-abdb-5a54fd8f4497",
   "metadata": {},
   "source": [
    "<div class=\"alert alert-block alert-success\">\n",
    "Data visualization is an essential aspect of data analysis that focuses on visually representing data. It provides a visual summary that aids in\n",
    "processing and understanding information through images, maps, and graphs, simplifying observation, analysis, and comprehension. This is\n",
    "particularly beneficial for large datasets, where manual processing can be tedious. Moreover, it helps highlight trends, patterns, and outliers.\n",
    "Python offers a variety of libraries for data visualization, including Plotly, Matplotlib, and Seaborn.\n",
    "</div>"
   ]
  },
  {
   "cell_type": "markdown",
   "id": "e915f600-afd8-4240-96b5-2fb2114eedaa",
   "metadata": {},
   "source": [
    "<div class=\"alert alert-block alert-warning\">Hepatitis is an inflammation of the liver. Most hepatitis patients are often asymptomatic. The Hepatitis dataset contains records of hepatitis cases in individuals and predicts patient survivability. For more details on this dataset, visit: https://archive.ics.\n",
    "uci.edu/dataset/46/hepatitis <div>"
   ]
  },
  {
   "cell_type": "markdown",
   "id": "013af542-2d44-4eb7-bba7-69cb69c3f98a",
   "metadata": {},
   "source": [
    "<div class=\"alert alert-block alert-danger\">\n",
    "    \n",
    "1. Import the Hepatitis dataset \n",
    "2. Print the first 10 samples\n",
    "3. Print 3 random samples\n",
    "4. Print the last 5 samples\n",
    "5. Display the following information about the dataset: columns, number of missing values in each column, and the type of features, all in one instruction.\n",
    "5. Display only the columns and their types (whether they are numerical or categorical).\n",
    "6. Display the number of samples and features.\n",
    "7. Display statistics for all numerical features: count, mean, standard deviation, quantiles, minimum, and maximum values.\n",
    "8. Verify if the dataset is balanced using a count and a plot.\n",
    "9. Using the pandas library, perform a line plot, histogram, and box plot for continuous values only. In the line plot, why is the line graph of the\n",
    "feature ”protime” not continuous?\n",
    "<\\div>"
   ]
  },
  {
   "cell_type": "markdown",
   "id": "007a04a3-0074-45f8-b4c9-1345061e29c0",
   "metadata": {},
   "source": [
    "<b>A standard deviation (or σ) </b> is a measure of how dispersed the data is in relation to the mean.\n",
    "\n",
    "<b> The median </b> is the middle value in a list ordered from smallest to largest.\n",
    "\n",
    "<b> 25%, 50%, and 75% </b> present the Q1, Median, and Q3 values. \n",
    "![title](fig1.png)"
   ]
  },
  {
   "cell_type": "markdown",
   "id": "f719dcbe-b8a3-4e4b-8ae9-9b14f5f014eb",
   "metadata": {},
   "source": [
    "## Dataset cleaning"
   ]
  },
  {
   "cell_type": "markdown",
   "id": "743f8280-0ef8-400e-82e4-12ede886c77f",
   "metadata": {},
   "source": [
    "<div class=\"alert alert-block alert-success\">\n",
    "Data cleaning is a crucial step in the machine learning process for optimal algorithm performance. It involves identifying and correcting issues such as missing values, duplicates, and irrelevant data to ensure accurate, consistent, high-quality, and error-free datasets. Common techniques used in data cleaning include handling missing values, removing duplicates, data type conversion, and outlier detection.\n",
    "</div>"
   ]
  },
  {
   "cell_type": "markdown",
   "id": "d4179cfd-0417-4aea-8d9e-a033eed3dc15",
   "metadata": {},
   "source": [
    "### Missing values"
   ]
  },
  {
   "cell_type": "markdown",
   "id": "0448f42d-52d4-44e7-9bbb-48b3a8218f9d",
   "metadata": {},
   "source": [
    "<div class=\"alert alert-block alert-success\">\n",
    "Handling missing data is a critical aspect of data preprocessing in machine learning. Effective strategies include imputing missing values\n",
    "using statistical methods, removing records with missing values, or employing advanced imputation techniques. Each approach has its advantages and limitations, and choosing the right method is essential\n",
    "for preventing biases and maintaining the integrity of analyses.\n",
    "</div>"
   ]
  },
  {
   "cell_type": "markdown",
   "id": "080f02be-fa14-4870-8850-1f6b55be1432",
   "metadata": {},
   "source": [
    "<div class=\"alert alert-block alert-danger\"> \n",
    "    \n",
    "1. Why is data missing? \n",
    "2. Print all samples that contain missing values.\n",
    "3. Print features that contain missing values.\n",
    "5. Print samples with features that contain missing values.\n",
    "6. Identify the number of missing values in each feature.\n",
    "7. Create a new dataframe from the first one and drop samples containing\n",
    "missing values.\n",
    "8. Create a new dataframe from the first one and delete columns contain-\n",
    "ing missing values. Is deleting missing values a solution?\n",
    "9. Replace missing values using the mean (for continuous values) or mode\n",
    "(for categorical values) and print the number of missing values after\n",
    "imputation.\n",
    "<div/>"
   ]
  },
  {
   "cell_type": "markdown",
   "id": "fc230df2-b67b-457d-a0d1-e421d0605836",
   "metadata": {},
   "source": [
    "### Outliers"
   ]
  },
  {
   "cell_type": "markdown",
   "id": "7ddeb72a-95f1-4122-a3ca-cb3c8a8dbe5a",
   "metadata": {},
   "source": [
    "<div class=\"alert alert-block alert-success\">\n",
    "Outliers are data points that significantly deviate from the norm and can arise from various causes, including errors, anomalies, or data variability. Their presence can negatively impact the performance of machine learning models, making it essential to manage outliers for obtaining accurate results. To address outliers, it is important to identify and manage them effectively by either deciding whether to remove them or transforming them to minimize their impact on analysis.\n",
    "<div/>"
   ]
  },
  {
   "cell_type": "markdown",
   "id": "82826299-6f37-4d9e-a9dd-bcb8d91eda06",
   "metadata": {},
   "source": [
    "<div class=\"alert alert-block alert-danger\">\n",
    "\n",
    "1. Find and handle outliers in the data using box plots and the Interquar-\n",
    "tile Range (IQR).\n",
    "2. Compute the Interquartile Range (IQR), upper and lower bounds for\n",
    "both the alkaline phosphate and bilirubin features, and detect outliers.\n",
    "3. Handle outliers using an automatic method (not mean or median).\n",
    "<div/>"
   ]
  },
  {
   "cell_type": "markdown",
   "id": "4a7ffdc8-b70d-4c5b-84d8-c1f72128ba1d",
   "metadata": {},
   "source": [
    "## Study of correlation and feature selection"
   ]
  },
  {
   "cell_type": "markdown",
   "id": "8524c7ec-9bc0-43d9-87e3-c6cf7b7d5aa7",
   "metadata": {},
   "source": [
    "<div class=\"alert alert-block alert-success\">\n",
    "Feature selection is a crucial process in machine learning that involves\n",
    "automatically identifying the most relevant features in a dataset that\n",
    "contribute to the decision-making process. Including irrelevant and\n",
    "highly correlated features can lead to decreased accuracy. This process\n",
    "also helps to manage high-dimensional data by reducing overfitting,\n",
    "enhancing model accuracy, and decreasing training time.\n",
    "<div/>"
   ]
  },
  {
   "cell_type": "markdown",
   "id": "1c2d8246-172c-4195-8013-cbaa89b82694",
   "metadata": {},
   "source": [
    "<div class=\"alert alert-block alert-danger\"> \n",
    "\n",
    "1. Drop the feature ”Sex”.\n",
    "2. Plot the Pearson correlation heatmap to observe the correlation of in-\n",
    "dependent variables with the output variable.\n",
    "3. Only select features that have an absolute correlation above 0.5 with\n",
    "the output variable.\n",
    "4. Drop the features that are highly correlated with malaise.\n",
    "5. Should features be correlated?\n",
    "<div/>"
   ]
  },
  {
   "cell_type": "markdown",
   "id": "2a3f62a7-9bb7-4612-aa2e-bc6297437074",
   "metadata": {},
   "source": [
    "## Data splitting"
   ]
  },
  {
   "cell_type": "markdown",
   "id": "73533366-3367-4a3e-8d6a-db3fa98fdae7",
   "metadata": {},
   "source": [
    "<div class=\"alert alert-block alert-success\">\n",
    "Data splitting is the process of dividing a dataset into two or more subsets, typically comprising a training set and a testing set. This ensures that models are trained on one subset of the data (training set) while being evaluated on another (test set), which helps effectively assess their performance and improve generalization. In Python, the scikit-learn library is a popular choice for implementing data splitting, offering various functions and classes to facilitate this essential process.\n",
    "<div/>"
   ]
  },
  {
   "cell_type": "markdown",
   "id": "a950be8c-fabf-416d-9000-4c3730a4dd8f",
   "metadata": {},
   "source": [
    "<div class=\"alert alert-block alert-danger\">\n",
    "\n",
    "1. Split the data into training and test sets using the hold-out and strat-\n",
    "ified hold-out strategies.\n",
    "2. Display the number of samples in each class for both strategies in the\n",
    "training and test sets.\n",
    "<div/>"
   ]
  }
 ],
 "metadata": {
  "kernelspec": {
   "display_name": "Python 3 (ipykernel)",
   "language": "python",
   "name": "python3"
  },
  "language_info": {
   "codemirror_mode": {
    "name": "ipython",
    "version": 3
   },
   "file_extension": ".py",
   "mimetype": "text/x-python",
   "name": "python",
   "nbconvert_exporter": "python",
   "pygments_lexer": "ipython3",
   "version": "3.12.7"
  }
 },
 "nbformat": 4,
 "nbformat_minor": 5
}
