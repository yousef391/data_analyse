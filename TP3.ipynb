{
 "cells": [
  {
   "cell_type": "markdown",
   "metadata": {},
   "source": [
    "# Linear Regression"
   ]
  },
  {
   "cell_type": "markdown",
   "metadata": {},
   "source": [
    "## Simple linear regression"
   ]
  },
  {
   "cell_type": "markdown",
   "metadata": {},
   "source": [
    "### Dataset description and visualisation"
   ]
  },
  {
   "cell_type": "markdown",
   "metadata": {},
   "source": [
    "<b>Student Hours & Scores: </b> In this regression task we will predict the percentage of marks that a student is expected to score based upon the number of hours they studied."
   ]
  },
  {
   "cell_type": "markdown",
   "metadata": {},
   "source": [
    "<div class=\"alert alert-block alert-danger\"> \n",
    "\n",
    "1. Import the student hours and scores dataset.\n",
    "2. Is this task a multiple or a simple linear regression problem?\n",
    "3. Which variable represents the dependent variable, and which one represents the independent variable?\n",
    "4. Display the number of samples and features in the dataset.\n",
    "5. Display the information about the dataset features.\n",
    "6. Describe the features by displaying their statistics.\n",
    "7. Plot the data and observe whether it demonstrates linear separability.\n",
    "<div/>"
   ]
  },
  {
   "cell_type": "markdown",
   "metadata": {},
   "source": [
    "### Dataset training and evaluation"
   ]
  },
  {
   "cell_type": "markdown",
   "metadata": {},
   "source": [
    "<div class=\"alert alert-block alert-danger\">  \n",
    "    \n",
    "1. Split the dataset into training and testing sets.\n",
    "2. Train the data using the LinearRegression module from sklearn. \n",
    "3. Display the model's equation.\n",
    "4. Create a plot showing the data and the generated model.\n",
    "5. Display the performance of the generated model on the training and the test set, based on the following metrics: Mean Absolute Error (MAE), Mean Squared Error (MSE), Root Mean Squared Error (RMSE), and R-squared. Does the generated model present an overfitting problem?\n",
    "6. Describe the R-squared metric and its advantages compared to the other metrics.\n",
    "7. Is the generated model characterized by good performance?\n",
    "8. Create a plot visualizing the difference between actual and predicted values.\n",
    "<div/>"
   ]
  }
 ],
 "metadata": {
  "colab": {
   "collapsed_sections": [],
   "provenance": []
  },
  "kernelspec": {
   "display_name": "Python 3 (ipykernel)",
   "language": "python",
   "name": "python3"
  },
  "language_info": {
   "codemirror_mode": {
    "name": "ipython",
    "version": 3
   },
   "file_extension": ".py",
   "mimetype": "text/x-python",
   "name": "python",
   "nbconvert_exporter": "python",
   "pygments_lexer": "ipython3",
   "version": "3.12.7"
  }
 },
 "nbformat": 4,
 "nbformat_minor": 4
}
