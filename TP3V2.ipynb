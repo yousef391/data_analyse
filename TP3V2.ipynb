{
 "cells": [
  {
   "cell_type": "markdown",
   "metadata": {},
   "source": [
    "# Linear Regression"
   ]
  },
  {
   "cell_type": "markdown",
   "metadata": {},
   "source": [
    "## Simple linear regression"
   ]
  },
  {
   "cell_type": "markdown",
   "metadata": {},
   "source": [
    "### Dataset description and visualisation"
   ]
  },
  {
   "cell_type": "markdown",
   "metadata": {},
   "source": [
    "<b>Student Hours & Scores: </b> In this regression task we will predict the percentage of marks that a student is expected to score based upon the number of hours they studied."
   ]
  },
  {
   "cell_type": "markdown",
   "metadata": {},
   "source": [
    "<div class=\"alert alert-block alert-danger\"> \n",
    "\n",
    "1. Import the student hours and scores dataset.\n",
    "2. Is this task a multiple or a simple linear regression problem?\n",
    "3. Which variable represents the dependent variable, and which one represents the independent variable?\n",
    "4. Display the number of samples and features in the dataset.\n",
    "5. Display the information about the dataset features.\n",
    "6. Describe the features by displaying their statistics.\n",
    "7. Plot the data and observe whether it demonstrates linear separability.\n",
    "<div/>"
   ]
  },
  {
   "cell_type": "markdown",
   "metadata": {},
   "source": [
    "### Dataset training and evaluation"
   ]
  },
  {
   "cell_type": "markdown",
   "metadata": {},
   "source": [
    "<div class=\"alert alert-block alert-danger\">  \n",
    "    \n",
    "1. Split the dataset into training and testing sets.\n",
    "2. Train the data using the LinearRegression module from sklearn. \n",
    "3. Display the model's equation.\n",
    "4. Create a plot showing the data and the generated model.\n",
    "5. Display the performance of the generated model on the training and the test set, based on the following metrics: Mean Absolute Error (MAE), Mean Squared Error (MSE), Root Mean Squared Error (RMSE), and R-squared. Does the generated model present an overfitting problem?\n",
    "6. Describe the R-squared metric and its advantages compared to the other metrics.\n",
    "7. Is the generated model characterized by good performance?\n",
    "8. Create a plot visualizing the difference between actual and predicted values.\n",
    "<div/>"
   ]
  },
  {
   "cell_type": "markdown",
   "metadata": {},
   "source": [
    "## Multiple linear regression"
   ]
  },
  {
   "cell_type": "markdown",
   "metadata": {},
   "source": [
    "### Data description and analysis"
   ]
  },
  {
   "cell_type": "markdown",
   "metadata": {},
   "source": [
    "<b> The Boston Housing Dataset: </b> the Boston Housing Dataset is derived from information collected by the U.S. Census Service regarding housing in the Boston, Massachusetts area. It aims to predict house prices based on various characteristics. "
   ]
  },
  {
   "cell_type": "markdown",
   "metadata": {},
   "source": [
    "<div class=\"alert alert-block alert-danger\">\n",
    "    \n",
    "1. Import the Boston Housing dataset.\n",
    "2. Display the correlation matrix and select only the highly correlated features with the label (MEDV feature) using a threshold value of 0.6.\n",
    "3. Verify if the selected features represent a linear relationship with the target variable based on a 3D plot.\n",
    "4. Split the generated dataset.\n",
    "5. Normalize the data (excluding the label) using the min max scaler strategy.\n",
    "\n",
    "\n",
    "<div/>"
   ]
  },
  {
   "cell_type": "markdown",
   "metadata": {},
   "source": [
    "### Data training and evaluation"
   ]
  },
  {
   "cell_type": "markdown",
   "metadata": {},
   "source": [
    "<div class=\"alert alert-block alert-danger\">\n",
    "    \n",
    "1. Use the following lines of code to perform training on the Boston Housing dataset.\n",
    "\n",
    "<div/>"
   ]
  },
  {
   "cell_type": "code",
   "execution_count": null,
   "metadata": {},
   "outputs": [],
   "source": [
    "from sklearn.linear_model import SGDRegressor\n",
    "sgdr = SGDRegressor(learning_rate='invscaling', eta0=0.0001,max_iter=1000,verbose=1)"
   ]
  },
  {
   "cell_type": "markdown",
   "metadata": {},
   "source": [
    "<div class=\"alert alert-block alert-danger\">\n",
    "\n",
    "2. Display the convergence graph of the trained model (where x represents the iterations and y is the loss).\n",
    "3. Vary the learning rate value (0.01, 0.001, 0.0001). By comparing the convergence graphs for each model, what do you observe in terms of convergence and results?\n",
    "4. Why does the graph not reach the maximum number of iterations when\n",
    "using the 0.01 learning rate? Which variable controls this behavior?\n",
    "5. Display the performance of the generated models on the test set based on the following metrics: MAE, MSE, RMSE, and R-squared. Select the best model based on these metrics.\n",
    "6. Plot the generated plane of the best model and the scaled training data in one 3D plot. What do you observe?\n",
    "7. Predict the class of the sample shown in the following figure based on the best model.    \n",
    "\n",
    "<div/>"
   ]
  },
  {
   "cell_type": "markdown",
   "metadata": {},
   "source": [
    "![title](sample.png)"
   ]
  }
 ],
 "metadata": {
  "colab": {
   "collapsed_sections": [],
   "provenance": []
  },
  "kernelspec": {
   "display_name": "Python 3 (ipykernel)",
   "language": "python",
   "name": "python3"
  },
  "language_info": {
   "codemirror_mode": {
    "name": "ipython",
    "version": 3
   },
   "file_extension": ".py",
   "mimetype": "text/x-python",
   "name": "python",
   "nbconvert_exporter": "python",
   "pygments_lexer": "ipython3",
   "version": "3.12.7"
  }
 },
 "nbformat": 4,
 "nbformat_minor": 4
}
